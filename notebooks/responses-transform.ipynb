{
 "cells": [
  {
   "cell_type": "code",
   "execution_count": 1,
   "id": "initial_id",
   "metadata": {
    "ExecuteTime": {
     "end_time": "2025-03-17T14:27:18.487626Z",
     "start_time": "2025-03-17T14:27:18.476973Z"
    },
    "collapsed": true
   },
   "outputs": [],
   "source": [
    "import json\n",
    "from tqdm import tqdm\n",
    "# Set the directory path\n",
    "#response_dir = \"../data/responses/fr-meditron-70b.jsonl \"\n",
    "response_dir = \"/Users/leonardo/git/malco/data/responses/en-meditron3-70b.jsonl\"\n",
    "hash_to_name = {}\n",
    "\n",
    "\n",
    "\n",
    "def read_result_json(path: str):\n",
    "    \"\"\"\n",
    "    Read the raw result file.\n",
    "\n",
    "    Args:\n",
    "        path (str): Path to the raw result file.\n",
    "\n",
    "    Returns:\n",
    "        List[dict]: Contents of the raw result file.\n",
    "    \"\"\"\n",
    "    responses = []\n",
    "    with open(path, \"r\") as raw_result:\n",
    "        for line in raw_result:\n",
    "            responses.append(json.loads(line))\n",
    "    return responses"
   ]
  },
  {
   "cell_type": "code",
   "execution_count": 2,
   "id": "bc16fb933d1704cb",
   "metadata": {
    "ExecuteTime": {
     "end_time": "2025-03-17T14:27:23.201315Z",
     "start_time": "2025-03-17T14:27:23.038062Z"
    }
   },
   "outputs": [
    {
     "name": "stderr",
     "output_type": "stream",
     "text": [
      "100%|██████████| 4967/4967 [00:00<00:00, 129547.85it/s]\n"
     ]
    }
   ],
   "source": [
    "llm_file = read_result_json(response_dir)\n",
    "outlines = []\n",
    "missing = 0\n",
    "with open(response_dir, \"w\") as f:\n",
    "    for line in tqdm(llm_file, total=len(llm_file)):\n",
    "        line[\"response\"] = line.pop(\"output\")\n",
    "        f.write(json.dumps(line) + \"\\n\")\n",
    "\n"
   ]
  },
  {
   "cell_type": "code",
   "execution_count": null,
   "id": "b800ee4fa9385c20",
   "metadata": {
    "ExecuteTime": {
     "end_time": "2025-03-12T19:23:57.756280Z",
     "start_time": "2025-03-12T19:23:57.754654Z"
    }
   },
   "outputs": [],
   "source": []
  },
  {
   "cell_type": "code",
   "execution_count": null,
   "id": "2aa2b8038d7d5749",
   "metadata": {},
   "outputs": [],
   "source": []
  }
 ],
 "metadata": {
  "kernelspec": {
   "display_name": ".venv",
   "language": "python",
   "name": "python3"
  },
  "language_info": {
   "codemirror_mode": {
    "name": "ipython",
    "version": 3
   },
   "file_extension": ".py",
   "mimetype": "text/x-python",
   "name": "python",
   "nbconvert_exporter": "python",
   "pygments_lexer": "ipython3",
   "version": "3.12.7"
  }
 },
 "nbformat": 4,
 "nbformat_minor": 5
}
