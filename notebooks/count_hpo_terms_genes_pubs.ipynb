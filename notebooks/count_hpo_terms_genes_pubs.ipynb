{
 "cells": [
  {
   "cell_type": "code",
   "execution_count": 1,
   "id": "initial_id",
   "metadata": {
    "collapsed": true,
    "ExecuteTime": {
     "end_time": "2024-10-29T16:43:51.962624Z",
     "start_time": "2024-10-29T16:43:41.788739Z"
    }
   },
   "outputs": [
    {
     "name": "stdout",
     "output_type": "stream",
     "text": [
      "Total number of unique phenotypic feature IDs: 2975\n",
      "Average number of phenotypic features per case: 15.99\n"
     ]
    }
   ],
   "source": [
    "import os\n",
    "import json\n",
    "import glob\n",
    "import pandas as pd\n",
    "\n",
    "# Define the directory containing the phenopacket JSON files\n",
    "directory = '../supplemental_data/phenopackets'  # Change this to your directory path\n",
    "\n",
    "# Initialize a list to store the phenotypic feature IDs\n",
    "all_ids = []\n",
    "\n",
    "# Initialize a counter for the total number of phenopacket files\n",
    "total_cases = 0\n",
    "\n",
    "# Loop through each JSON file in the directory\n",
    "for filepath in glob.glob(os.path.join(directory, '*.json')):\n",
    "    with open(filepath, 'r') as file:\n",
    "        data = json.load(file)\n",
    "        # Extract the phenotypic feature IDs\n",
    "        phenotypic_features = data.get('phenotypicFeatures', [])\n",
    "        for feature in phenotypic_features:\n",
    "            feature_id = feature['type']['id']\n",
    "            all_ids.append(feature_id)\n",
    "        total_cases += 1\n",
    "\n",
    "# Create a DataFrame from the list of all IDs\n",
    "df = pd.DataFrame(all_ids, columns=['PhenotypicFeatureID'])\n",
    "\n",
    "# Count the total number of unique IDs\n",
    "unique_ids_count = df['PhenotypicFeatureID'].nunique()\n",
    "\n",
    "# Calculate the average number of phenotypic features per case\n",
    "average_features_per_case = len(all_ids) / total_cases if total_cases > 0 else 0\n",
    "\n",
    "# Display the results\n",
    "print(f\"Total number of unique phenotypic feature IDs: {unique_ids_count}\")\n",
    "print(f\"Average number of phenotypic features per case: {average_features_per_case:.2f}\")\n",
    "\n",
    "# Optionally display the DataFrame with unique phenotypic feature IDs\n",
    "unique_ids = df"
   ]
  },
  {
   "cell_type": "code",
   "execution_count": 3,
   "outputs": [
    {
     "name": "stdout",
     "output_type": "stream",
     "text": [
      "     336\r\n"
     ]
    }
   ],
   "source": [
    "# Count the number of unique genes in the phenopackets\n",
    "!find ../supplemental_data/phenopackets -name \"*.json\" -exec jq '.interpretations[].diagnosis.genomicInterpretations[].variantInterpretation.variationDescriptor.geneContext.valueId' {} \\; | sort | uniq | wc -l"
   ],
   "metadata": {
    "collapsed": false,
    "ExecuteTime": {
     "end_time": "2024-10-29T16:45:50.562047Z",
     "start_time": "2024-10-29T16:45:10.349411Z"
    }
   },
   "id": "d9de07a6abc4629d"
  },
  {
   "cell_type": "code",
   "execution_count": 5,
   "outputs": [
    {
     "name": "stdout",
     "output_type": "stream",
     "text": [
      "     378\r\n"
     ]
    }
   ],
   "source": [
    "!find ../supplemental_data/phenopackets -name '*.json' -exec jq -r '.interpretations[].diagnosis.disease.id' {} + | sort | uniq | wc -l"
   ],
   "metadata": {
    "collapsed": false,
    "ExecuteTime": {
     "end_time": "2024-10-29T16:56:30.544767Z",
     "start_time": "2024-10-29T16:56:28.676234Z"
    }
   },
   "id": "bccf057465302301"
  },
  {
   "cell_type": "code",
   "execution_count": 4,
   "outputs": [
    {
     "name": "stdout",
     "output_type": "stream",
     "text": [
      "     726\r\n"
     ]
    }
   ],
   "source": [
    "# Count the number of unique publications in the phenopackets\n",
    "! find ../supplemental_data/phenopackets -name \"*.json\" -exec jq -r '.metaData.externalReferences[].id' {} \\; | sort | uniq | wc -l"
   ],
   "metadata": {
    "collapsed": false,
    "ExecuteTime": {
     "end_time": "2024-10-29T16:46:17.590674Z",
     "start_time": "2024-10-29T16:45:50.562238Z"
    }
   },
   "id": "db17ff9871fce180"
  }
 ],
 "metadata": {
  "kernelspec": {
   "display_name": "Python 3",
   "language": "python",
   "name": "python3"
  },
  "language_info": {
   "codemirror_mode": {
    "name": "ipython",
    "version": 2
   },
   "file_extension": ".py",
   "mimetype": "text/x-python",
   "name": "python",
   "nbconvert_exporter": "python",
   "pygments_lexer": "ipython2",
   "version": "2.7.6"
  }
 },
 "nbformat": 4,
 "nbformat_minor": 5
}
