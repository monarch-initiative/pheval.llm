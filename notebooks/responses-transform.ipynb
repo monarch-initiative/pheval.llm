{
 "cells": [
  {
   "cell_type": "code",
   "id": "initial_id",
   "metadata": {
    "collapsed": true,
    "ExecuteTime": {
     "end_time": "2025-03-17T14:27:18.487626Z",
     "start_time": "2025-03-17T14:27:18.476973Z"
    }
   },
   "source": [
    "import json\n",
    "from tqdm import tqdm\n",
    "# Set the directory path\n",
    "response_dir = \"../data/responses/meditron3-70b.jsonl\"\n",
    "hash_to_name = {}\n",
    "\n",
    "\n",
    "\n",
    "def read_result_json(path: str):\n",
    "    \"\"\"\n",
    "    Read the raw result file.\n",
    "\n",
    "    Args:\n",
    "        path (str): Path to the raw result file.\n",
    "\n",
    "    Returns:\n",
    "        List[dict]: Contents of the raw result file.\n",
    "    \"\"\"\n",
    "    responses = []\n",
    "    with open(path, \"r\") as raw_result:\n",
    "        for line in raw_result:\n",
    "            responses.append(json.loads(line))\n",
    "    return responses"
   ],
   "outputs": [],
   "execution_count": 2
  },
  {
   "metadata": {
    "ExecuteTime": {
     "end_time": "2025-03-17T14:27:23.201315Z",
     "start_time": "2025-03-17T14:27:23.038062Z"
    }
   },
   "cell_type": "code",
   "source": [
    "llm_file = read_result_json(response_dir)\n",
    "outlines = []\n",
    "missing = 0\n",
    "with open(response_dir, \"w\") as f:\n",
    "    for line in tqdm(llm_file, total=len(llm_file)):\n",
    "        line[\"response\"] = line.pop(\"output\")\n",
    "        f.write(json.dumps(line) + \"\\n\")\n",
    "\n"
   ],
   "id": "bc16fb933d1704cb",
   "outputs": [
    {
     "name": "stderr",
     "output_type": "stream",
     "text": [
      "100%|██████████| 5212/5212 [00:00<00:00, 90396.65it/s]\n"
     ]
    }
   ],
   "execution_count": 3
  },
  {
   "metadata": {
    "ExecuteTime": {
     "end_time": "2025-03-12T19:23:57.756280Z",
     "start_time": "2025-03-12T19:23:57.754654Z"
    }
   },
   "cell_type": "code",
   "source": "",
   "id": "b800ee4fa9385c20",
   "outputs": [],
   "execution_count": null
  },
  {
   "metadata": {},
   "cell_type": "code",
   "outputs": [],
   "execution_count": null,
   "source": "",
   "id": "2aa2b8038d7d5749"
  }
 ],
 "metadata": {
  "kernelspec": {
   "display_name": "Python 3",
   "language": "python",
   "name": "python3"
  },
  "language_info": {
   "codemirror_mode": {
    "name": "ipython",
    "version": 2
   },
   "file_extension": ".py",
   "mimetype": "text/x-python",
   "name": "python",
   "nbconvert_exporter": "python",
   "pygments_lexer": "ipython2",
   "version": "2.7.6"
  }
 },
 "nbformat": 4,
 "nbformat_minor": 5
}
