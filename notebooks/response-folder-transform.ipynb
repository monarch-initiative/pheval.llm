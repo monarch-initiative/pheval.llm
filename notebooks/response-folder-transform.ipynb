{
 "cells": [
  {
   "cell_type": "code",
   "execution_count": 13,
   "id": "initial_id",
   "metadata": {
    "ExecuteTime": {
     "end_time": "2025-04-23T16:13:18.759624Z",
     "start_time": "2025-04-23T16:13:18.744265Z"
    },
    "collapsed": true
   },
   "outputs": [],
   "source": [
    "import json\n",
    "from tqdm import tqdm\n",
    "import os\n",
    "# Set the directory path\n",
    "gold = \"../data/exomiser-gold.jsonl\"\n",
    "target_dir = \"../data/gpt_4o_response.csv\"\n",
    "model = \"gpt-4o\"\n",
    "\n",
    "#  Load exomiser prompt file\n",
    "#  Then iterate over files in the directory getting the name of the file and building a jsonl file\n",
    "\n",
    "\n",
    "\n",
    "def read_folder_files(path: str):\n",
    "    \"\"\"\n",
    "    Read the files in the specified folder.\n",
    "\n",
    "    Args:\n",
    "        path (str): Path to the folder containing the files.\n",
    "\n",
    "    Returns:\n",
    "        List[str]: List of file paths in the folder.\n",
    "    \"\"\"\n",
    "    import os\n",
    "    return [os.path.join(path, file) for file in os.listdir(path) if file.endswith(\".txt\")]\n",
    "\n",
    "def read_result_json(path: str):\n",
    "    \"\"\"\n",
    "    Read the raw result file.\n",
    "\n",
    "    Args:\n",
    "        path (str): Path to the raw result file.\n",
    "\n",
    "    Returns:\n",
    "        List[dict]: Contents of the raw result file.\n",
    "    \"\"\"\n",
    "    responses = []\n",
    "    with open(path, \"r\") as raw_result:\n",
    "        for line in raw_result:\n",
    "            responses.append(json.loads(line))\n",
    "    return responses\n",
    "\n",
    "def read_response_csv(path: str):\n",
    "    \"\"\"\n",
    "    Read the CSV file containing the responses.\n",
    "\n",
    "    Args:\n",
    "        path (str): Path to the CSV file.\n",
    "\n",
    "    Returns:\n",
    "        List[dict]: Contents of the CSV file.\n",
    "    \"\"\"\n",
    "    import pandas as pd\n",
    "    df = pd.read_csv(path)\n",
    "    return df"
   ]
  },
  {
   "cell_type": "code",
   "execution_count": 11,
   "id": "bc16fb933d1704cb",
   "metadata": {
    "ExecuteTime": {
     "end_time": "2025-04-23T16:13:18.885378Z",
     "start_time": "2025-04-23T16:13:18.768844Z"
    }
   },
   "outputs": [],
   "source": [
    "gold_prompts = read_result_json(gold)\n",
    "gold_prompts_dict = {}\n",
    "\n",
    "for prompt in gold_prompts:\n",
    "    gold_prompts_dict[prompt[\"id\"]] = prompt"
   ]
  },
  {
   "cell_type": "code",
   "execution_count": null,
   "id": "897a9a57",
   "metadata": {},
   "outputs": [],
   "source": [
    "files = read_folder_files(target_dir)\n",
    "for file in tqdm(files, total=len(files)):\n",
    "    with open(file , \"r\") as f:\n",
    "        text = f.read().strip()\n",
    "        filename = os.path.basename(file)\n",
    "        if filename in gold_prompts_dict:\n",
    "            gold_prompts_dict[filename][\"response\"] = text\n",
    "        else:\n",
    "            print(f\"File {filename} not found in gold prompts.\")"
   ]
  },
  {
   "cell_type": "code",
   "execution_count": 12,
   "id": "53237eb1",
   "metadata": {},
   "outputs": [],
   "source": [
    "df_files = read_response_csv(target_dir)\n",
    "\n",
    "for index, row in df_files.iterrows():\n",
    "    filename = row[\"metadata\"]\n",
    "    if filename in gold_prompts_dict:\n",
    "        gold_prompts_dict[filename][\"response\"] = row[\"service_answer\"]\n",
    "    else:\n",
    "        print(f\"File {filename} not found in gold prompts.\")"
   ]
  },
  {
   "cell_type": "code",
   "execution_count": 14,
   "id": "b800ee4fa9385c20",
   "metadata": {
    "ExecuteTime": {
     "end_time": "2025-03-12T19:23:57.756280Z",
     "start_time": "2025-03-12T19:23:57.754654Z"
    }
   },
   "outputs": [
    {
     "name": "stderr",
     "output_type": "stream",
     "text": [
      "100%|██████████| 5212/5212 [00:00<00:00, 66143.96it/s]\n"
     ]
    }
   ],
   "source": [
    "with open(f\"../data/responses/{model}.jsonl\", \"w\") as f:\n",
    "    for line in tqdm(gold_prompts_dict.values(), total=len(gold_prompts_dict.values())):\n",
    "        f.write(json.dumps(line) + \"\\n\")"
   ]
  },
  {
   "cell_type": "code",
   "execution_count": null,
   "id": "2aa2b8038d7d5749",
   "metadata": {},
   "outputs": [],
   "source": []
  }
 ],
 "metadata": {
  "kernelspec": {
   "display_name": "p3",
   "language": "python",
   "name": "python3"
  },
  "language_info": {
   "codemirror_mode": {
    "name": "ipython",
    "version": 3
   },
   "file_extension": ".py",
   "mimetype": "text/x-python",
   "name": "python",
   "nbconvert_exporter": "python",
   "pygments_lexer": "ipython3",
   "version": "3.10.16"
  }
 },
 "nbformat": 4,
 "nbformat_minor": 5
}
