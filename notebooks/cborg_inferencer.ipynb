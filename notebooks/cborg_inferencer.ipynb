{
 "cells": [
  {
   "cell_type": "code",
   "execution_count": 2,
   "metadata": {},
   "outputs": [],
   "source": [
    "import os\n",
    "import time  # for adding a delay between retries\n",
    "from tqdm import tqdm\n",
    "import json\n",
    "from openai import OpenAI\n",
    "from concurrent.futures import ThreadPoolExecutor, as_completed\n",
    "import threading\n",
    "\n",
    "# Number of retries\n",
    "max_retries = 3\n",
    "retry_delay = 5  # seconds between retries"
   ]
  },
  {
   "cell_type": "code",
   "execution_count": 3,
   "metadata": {},
   "outputs": [],
   "source": [
    "# Utility functions\n",
    "def get_gpt_response_with_retries(prompt_obj, client, model, retries=max_retries):\n",
    "    for attempt in range(retries):\n",
    "        try:\n",
    "            response = client.completions.create(\n",
    "                model=model,\n",
    "                prompt=prompt_obj['prompt'],\n",
    "                max_tokens=200,\n",
    "                temperature=0.7\n",
    "            )\n",
    "            prompt_obj['response'] = response.choices[0].text.strip()\n",
    "            return  prompt_obj # Extract and clean response\n",
    "        except Exception as e:\n",
    "            print(f\"Error on attempt {attempt + 1}/{retries}: {e}\")\n",
    "            if attempt < retries - 1:\n",
    "                time.sleep(retry_delay)  # Wait before retrying\n",
    "            else:\n",
    "                raise Exception(f\"Failed after {retries} attempts: {e}\")\n",
    "\n",
    "# rewrite the case to have the prompt template format\n",
    "def rewrite_case_prompt(case):\n",
    "\n",
    "    try:\n",
    "        client = OpenAI(\n",
    "            api_key=os.environ.get('CBORG_EXT_API_KEY_FLASH'),\n",
    "            base_url=\"https://api.cborg.lbl.gov/v1\"\n",
    "        )\n",
    "\n",
    "        response = client.chat.completions.create(\n",
    "            model='google/gemini-flash',\n",
    "            messages=[\n",
    "                {\n",
    "                    'role': 'user',\n",
    "                    'content': f\"\"\"Rewrite the following medical case into this template differnt : \"Patient Information: \\nAge: [age]\\nGender: [gender]\\nDisease Onset:[disease_onset]\\nChief Complaint: [complaints]\", where the values in square brackets [] are derived from the case or \"Unknown\" if not specified. Please remove square brackets\n",
    "    **Medical Case:**\n",
    "    {case}\n",
    "    \"\"\"\n",
    "                }\n",
    "            ],\n",
    "            temperature=0.0\n",
    "        )\n",
    "        return response.choices[0].message.content.rstrip() + \"\\n\\nPlease provide a detailed and comprehensive diagnostic analysis of this medical record.\\n\\nAssistant:\"\n",
    "    except Exception as e:\n",
    "        print(\"ERROR\", e)\n",
    "\n",
    "# Function to get gold standard with prompts\n",
    "def get_prompts(file_path):\n",
    "    all_prompts = []\n",
    "    # Open the JSONL file\n",
    "    with open(file_path, 'r') as file:\n",
    "        # Read each line in the file\n",
    "        for line in file:\n",
    "            all_prompts.append(json.loads(line))\n",
    "    return all_prompts\n",
    "\n",
    "# Function to process a single prompt from list of jsonl\n",
    "def prompts_by_id(prompts, id):\n",
    "    for prompt in prompts:\n",
    "        if prompt['id'] == id:\n",
    "            return prompt\n",
    "    return None\n"
   ]
  },
  {
   "cell_type": "code",
   "execution_count": 18,
   "metadata": {},
   "outputs": [
    {
     "name": "stdout",
     "output_type": "stream",
     "text": [
      "Didn't run cause you probably didn't want to anyways.\n"
     ]
    }
   ],
   "source": [
    "# This code block creates a derivative medfound prompts from our exomiser-gold.jsonl prompts\n",
    "def process_file(prompt_obj, lock):\n",
    "    raw_prompt = prompt_obj['prompt']\n",
    "    raw_prompt = raw_prompt.split(\"Here is the case:\")[1]\n",
    "    prompt_obj[\"prompt\"] = rewrite_case_prompt(raw_prompt)\n",
    "    with lock:\n",
    "        with open(\"../data/medfound-prompts-test.jsonl\", \"a\") as result_file:\n",
    "            result_file.write(json.dumps(prompt_obj) + \"\\n\")\n",
    "    return True\n",
    "\n",
    "def create_medfound_prompts(run=False):\n",
    "    if run:\n",
    "        with open(os.path.expanduser('~/CBORG_EXT_API_KEY_FLASH.txt'), 'r') as f:\n",
    "            os.environ['CBORG_EXT_API_KEY_FLASH'] = f.read().strip()\n",
    "        all_prompts = get_prompts(\"../data/exomiser-gold.jsonl\")\n",
    "        lock = threading.Lock()\n",
    "        with ThreadPoolExecutor(max_workers=os.cpu_count()) as executor:\n",
    "            futures = {executor.submit(process_file, line, lock): line for line in all_prompts[:1]}\n",
    "            for future in tqdm(as_completed(futures), total=len(futures)):\n",
    "                future.result()\n",
    "    else:\n",
    "        print(\"Didn't run cause you probably didn't want to anyways.\")\n",
    "create_medfound_prompts()"
   ]
  },
  {
   "cell_type": "code",
   "execution_count": 4,
   "metadata": {},
   "outputs": [
    {
     "name": "stderr",
     "output_type": "stream",
     "text": [
      "100%|██████████| 1971/1971 [25:28<00:00,  1.29it/s]\n"
     ]
    }
   ],
   "source": [
    "# Run all inference on medfound prompts\n",
    "def inference_medfound(model=\"medicalai/MedFound-176B\"):\n",
    "    with open(os.path.expanduser('~/CBORG_EXT_API_KEY.txt'), 'r') as f:\n",
    "        os.environ['CBORG_EXT_API_KEY'] = f.read().strip()\n",
    "    # Initialize the new API client\n",
    "    client = OpenAI(\n",
    "        api_key=os.environ.get(\"CBORG_EXT_API_KEY\"),\n",
    "        base_url=\"https://ext1.cborg.lbl.gov/v1\"\n",
    "    )\n",
    "    all_prompts = get_prompts(\"../data/medfound-prompts.jsonl\")\n",
    "    already_processed = get_prompts(\"../data/results/medfound175b_results.jsonl\")\n",
    "    already_processed_ids = {prompt['id'] for prompt in already_processed}\n",
    "    for p in all_prompts:\n",
    "        p['prompt'] = p['prompt'].replace(\"None\", \"Unknown\")\n",
    "    lock = threading.Lock()\n",
    "    with ThreadPoolExecutor(max_workers=os.cpu_count()) as executor:\n",
    "        futures = {executor.submit(get_gpt_response_with_retries, prompt_obj, client, model): prompt_obj for prompt_obj in all_prompts if prompt_obj['id'] not in already_processed_ids}\n",
    "        for future in tqdm(as_completed(futures), total=len(futures)):\n",
    "            with lock:\n",
    "                prompt_obj = future.result()\n",
    "                with open(\"../data/results/medfound175b_results.jsonl\", \"a\") as result_file:\n",
    "                    result_file.write(json.dumps(prompt_obj) + \"\\n\")\n",
    "inference_medfound()"
   ]
  },
  {
   "cell_type": "code",
   "execution_count": 8,
   "metadata": {},
   "outputs": [],
   "source": [
    "def create_gemini_prompts():\n",
    "    all_prompts = get_prompts(\"../data/exomiser-gold.jsonl\")\n",
    "    for prompt in all_prompts:\n",
    "        prompt['prompt'] = prompt['prompt'] + \"\\n\\n Do not explain the list, just provide the list of differential diagnoses.\"\n",
    "    with open(\"../data/gemini-prompts.jsonl\", \"w\") as result_file:\n",
    "        for prompt in all_prompts:\n",
    "            result_file.write(json.dumps(prompt) + \"\\n\")\n",
    "create_gemini_prompts()"
   ]
  },
  {
   "cell_type": "code",
   "execution_count": 11,
   "metadata": {},
   "outputs": [
    {
     "name": "stderr",
     "output_type": "stream",
     "text": [
      "  5%|▍         | 256/5213 [00:35<29:18,  2.82it/s]"
     ]
    },
    {
     "name": "stdout",
     "output_type": "stream",
     "text": [
      "Error on attempt 1/3: Error code: 429 - {'error': {'message': '429: LiteLLM Rate Limit Handler for rate limit type = team. Crossed TPM / RPM / Max Parallel Request Limit. current rpm: 100, rpm limit: 100, current tpm: 0, tpm limit: 1000000, current max_parallel_requests: 0, max_parallel_requests: 9223372036854775807', 'type': 'None', 'param': 'None', 'code': '429'}}\n",
      "Error on attempt 1/3: Error code: 429 - {'error': {'message': '429: LiteLLM Rate Limit Handler for rate limit type = team. Crossed TPM / RPM / Max Parallel Request Limit. current rpm: 100, rpm limit: 100, current tpm: 0, tpm limit: 1000000, current max_parallel_requests: 0, max_parallel_requests: 9223372036854775807', 'type': 'None', 'param': 'None', 'code': '429'}}\n",
      "Error on attempt 1/3: Error code: 429 - {'error': {'message': '429: LiteLLM Rate Limit Handler for rate limit type = team. Crossed TPM / RPM / Max Parallel Request Limit. current rpm: 100, rpm limit: 100, current tpm: 0, tpm limit: 1000000, current max_parallel_requests: 0, max_parallel_requests: 9223372036854775807', 'type': 'None', 'param': 'None', 'code': '429'}}\n",
      "Error on attempt 1/3: Error code: 429 - {'error': {'message': '429: LiteLLM Rate Limit Handler for rate limit type = team. Crossed TPM / RPM / Max Parallel Request Limit. current rpm: 100, rpm limit: 100, current tpm: 0, tpm limit: 1000000, current max_parallel_requests: 0, max_parallel_requests: 9223372036854775807', 'type': 'None', 'param': 'None', 'code': '429'}}\n"
     ]
    },
    {
     "name": "stderr",
     "output_type": "stream",
     "text": [
      " 18%|█▊        | 946/5213 [02:13<11:13,  6.34it/s]"
     ]
    },
    {
     "name": "stdout",
     "output_type": "stream",
     "text": [
      "Error on attempt 1/3: Error code: 429 - {'error': {'message': '429: LiteLLM Rate Limit Handler for rate limit type = team. Crossed TPM / RPM / Max Parallel Request Limit. current rpm: 100, rpm limit: 100, current tpm: 0, tpm limit: 1000000, current max_parallel_requests: 0, max_parallel_requests: 9223372036854775807', 'type': 'None', 'param': 'None', 'code': '429'}}\n"
     ]
    },
    {
     "name": "stderr",
     "output_type": "stream",
     "text": [
      " 19%|█▊        | 967/5213 [02:19<28:11,  2.51it/s]"
     ]
    },
    {
     "name": "stdout",
     "output_type": "stream",
     "text": [
      "Error on attempt 1/3: Error code: 429 - {'error': {'message': '429: LiteLLM Rate Limit Handler for rate limit type = team. Crossed TPM / RPM / Max Parallel Request Limit. current rpm: 100, rpm limit: 100, current tpm: 0, tpm limit: 1000000, current max_parallel_requests: 0, max_parallel_requests: 9223372036854775807', 'type': 'None', 'param': 'None', 'code': '429'}}\n",
      "Error on attempt 1/3: Error code: 429 - {'error': {'message': '429: LiteLLM Rate Limit Handler for rate limit type = team. Crossed TPM / RPM / Max Parallel Request Limit. current rpm: 100, rpm limit: 100, current tpm: 0, tpm limit: 1000000, current max_parallel_requests: 0, max_parallel_requests: 9223372036854775807', 'type': 'None', 'param': 'None', 'code': '429'}}\n"
     ]
    },
    {
     "name": "stderr",
     "output_type": "stream",
     "text": [
      " 19%|█▉        | 996/5213 [02:25<12:52,  5.46it/s]"
     ]
    },
    {
     "name": "stdout",
     "output_type": "stream",
     "text": [
      "Error on attempt 1/3: Error code: 429 - {'error': {'message': '429: LiteLLM Rate Limit Handler for rate limit type = team. Crossed TPM / RPM / Max Parallel Request Limit. current rpm: 100, rpm limit: 100, current tpm: 0, tpm limit: 1000000, current max_parallel_requests: 0, max_parallel_requests: 9223372036854775807', 'type': 'None', 'param': 'None', 'code': '429'}}\n",
      "Error on attempt 1/3: Error code: 429 - {'error': {'message': '429: LiteLLM Rate Limit Handler for rate limit type = team. Crossed TPM / RPM / Max Parallel Request Limit. current rpm: 100, rpm limit: 100, current tpm: 0, tpm limit: 1000000, current max_parallel_requests: 0, max_parallel_requests: 9223372036854775807', 'type': 'None', 'param': 'None', 'code': '429'}}\n"
     ]
    },
    {
     "name": "stderr",
     "output_type": "stream",
     "text": [
      " 19%|█▉        | 1003/5213 [02:28<26:37,  2.64it/s]"
     ]
    },
    {
     "name": "stdout",
     "output_type": "stream",
     "text": [
      "Error on attempt 1/3: Error code: 429 - {'error': {'message': '429: LiteLLM Rate Limit Handler for rate limit type = team. Crossed TPM / RPM / Max Parallel Request Limit. current rpm: 100, rpm limit: 100, current tpm: 0, tpm limit: 1000000, current max_parallel_requests: 0, max_parallel_requests: 9223372036854775807', 'type': 'None', 'param': 'None', 'code': '429'}}\n",
      "Error on attempt 1/3: Error code: 429 - {'error': {'message': '429: LiteLLM Rate Limit Handler for rate limit type = team. Crossed TPM / RPM / Max Parallel Request Limit. current rpm: 100, rpm limit: 100, current tpm: 0, tpm limit: 1000000, current max_parallel_requests: 0, max_parallel_requests: 9223372036854775807', 'type': 'None', 'param': 'None', 'code': '429'}}\n",
      "Error on attempt 1/3: Error code: 429 - {'error': {'message': '429: LiteLLM Rate Limit Handler for rate limit type = team. Crossed TPM / RPM / Max Parallel Request Limit. current rpm: 100, rpm limit: 100, current tpm: 0, tpm limit: 1000000, current max_parallel_requests: 0, max_parallel_requests: 9223372036854775807', 'type': 'None', 'param': 'None', 'code': '429'}}\n",
      "Error on attempt 1/3: Error code: 429 - {'error': {'message': '429: LiteLLM Rate Limit Handler for rate limit type = team. Crossed TPM / RPM / Max Parallel Request Limit. current rpm: 100, rpm limit: 100, current tpm: 0, tpm limit: 1000000, current max_parallel_requests: 0, max_parallel_requests: 9223372036854775807', 'type': 'None', 'param': 'None', 'code': '429'}}\n",
      "Error on attempt 1/3: Error code: 429 - {'error': {'message': '429: LiteLLM Rate Limit Handler for rate limit type = team. Crossed TPM / RPM / Max Parallel Request Limit. current rpm: 100, rpm limit: 100, current tpm: 0, tpm limit: 1000000, current max_parallel_requests: 0, max_parallel_requests: 9223372036854775807', 'type': 'None', 'param': 'None', 'code': '429'}}\n"
     ]
    },
    {
     "name": "stderr",
     "output_type": "stream",
     "text": [
      " 19%|█▉        | 1004/5213 [02:31<1:03:09,  1.11it/s]"
     ]
    },
    {
     "name": "stdout",
     "output_type": "stream",
     "text": [
      "Error on attempt 1/3: Error code: 429 - {'error': {'message': '429: LiteLLM Rate Limit Handler for rate limit type = team. Crossed TPM / RPM / Max Parallel Request Limit. current rpm: 100, rpm limit: 100, current tpm: 0, tpm limit: 1000000, current max_parallel_requests: 0, max_parallel_requests: 9223372036854775807', 'type': 'None', 'param': 'None', 'code': '429'}}\n"
     ]
    },
    {
     "name": "stderr",
     "output_type": "stream",
     "text": [
      " 20%|█▉        | 1020/5213 [02:37<19:36,  3.56it/s]  "
     ]
    },
    {
     "name": "stdout",
     "output_type": "stream",
     "text": [
      "Error on attempt 1/3: Error code: 429 - {'error': {'message': '429: LiteLLM Rate Limit Handler for rate limit type = team. Crossed TPM / RPM / Max Parallel Request Limit. current rpm: 100, rpm limit: 100, current tpm: 0, tpm limit: 1000000, current max_parallel_requests: 0, max_parallel_requests: 9223372036854775807', 'type': 'None', 'param': 'None', 'code': '429'}}\n",
      "Error on attempt 2/3: Error code: 429 - {'error': {'message': '429: LiteLLM Rate Limit Handler for rate limit type = team. Crossed TPM / RPM / Max Parallel Request Limit. current rpm: 100, rpm limit: 100, current tpm: 0, tpm limit: 1000000, current max_parallel_requests: 0, max_parallel_requests: 9223372036854775807', 'type': 'None', 'param': 'None', 'code': '429'}}\n",
      "Error on attempt 1/3: Error code: 429 - {'error': {'message': '429: LiteLLM Rate Limit Handler for rate limit type = team. Crossed TPM / RPM / Max Parallel Request Limit. current rpm: 100, rpm limit: 100, current tpm: 0, tpm limit: 1000000, current max_parallel_requests: 0, max_parallel_requests: 9223372036854775807', 'type': 'None', 'param': 'None', 'code': '429'}}\n"
     ]
    },
    {
     "name": "stderr",
     "output_type": "stream",
     "text": [
      " 20%|█▉        | 1023/5213 [02:38<28:21,  2.46it/s]"
     ]
    },
    {
     "name": "stdout",
     "output_type": "stream",
     "text": [
      "Error on attempt 1/3: Error code: 429 - {'error': {'message': '429: LiteLLM Rate Limit Handler for rate limit type = team. Crossed TPM / RPM / Max Parallel Request Limit. current rpm: 100, rpm limit: 100, current tpm: 0, tpm limit: 1000000, current max_parallel_requests: 0, max_parallel_requests: 9223372036854775807', 'type': 'None', 'param': 'None', 'code': '429'}}\n"
     ]
    },
    {
     "name": "stderr",
     "output_type": "stream",
     "text": [
      " 20%|█▉        | 1027/5213 [02:40<31:12,  2.24it/s]"
     ]
    },
    {
     "name": "stdout",
     "output_type": "stream",
     "text": [
      "Error on attempt 1/3: Error code: 429 - {'error': {'message': '429: LiteLLM Rate Limit Handler for rate limit type = team. Crossed TPM / RPM / Max Parallel Request Limit. current rpm: 100, rpm limit: 100, current tpm: 0, tpm limit: 1000000, current max_parallel_requests: 0, max_parallel_requests: 9223372036854775807', 'type': 'None', 'param': 'None', 'code': '429'}}\n"
     ]
    },
    {
     "name": "stderr",
     "output_type": "stream",
     "text": [
      " 20%|█▉        | 1037/5213 [02:44<22:12,  3.13it/s]"
     ]
    },
    {
     "name": "stdout",
     "output_type": "stream",
     "text": [
      "Error on attempt 1/3: Error code: 429 - {'error': {'message': '429: LiteLLM Rate Limit Handler for rate limit type = team. Crossed TPM / RPM / Max Parallel Request Limit. current rpm: 100, rpm limit: 100, current tpm: 0, tpm limit: 1000000, current max_parallel_requests: 0, max_parallel_requests: 9223372036854775807', 'type': 'None', 'param': 'None', 'code': '429'}}\n",
      "Error on attempt 1/3: Error code: 429 - {'error': {'message': '429: LiteLLM Rate Limit Handler for rate limit type = team. Crossed TPM / RPM / Max Parallel Request Limit. current rpm: 100, rpm limit: 100, current tpm: 0, tpm limit: 1000000, current max_parallel_requests: 0, max_parallel_requests: 9223372036854775807', 'type': 'None', 'param': 'None', 'code': '429'}}\n"
     ]
    },
    {
     "name": "stderr",
     "output_type": "stream",
     "text": [
      " 26%|██▌       | 1362/5213 [03:30<12:34,  5.10it/s]"
     ]
    },
    {
     "name": "stdout",
     "output_type": "stream",
     "text": [
      "Error on attempt 1/3: Error code: 429 - {'error': {'message': '429: LiteLLM Rate Limit Handler for rate limit type = team. Crossed TPM / RPM / Max Parallel Request Limit. current rpm: 100, rpm limit: 100, current tpm: 0, tpm limit: 1000000, current max_parallel_requests: 0, max_parallel_requests: 9223372036854775807', 'type': 'None', 'param': 'None', 'code': '429'}}\n",
      "Error on attempt 1/3: Error code: 429 - {'error': {'message': '429: LiteLLM Rate Limit Handler for rate limit type = team. Crossed TPM / RPM / Max Parallel Request Limit. current rpm: 100, rpm limit: 100, current tpm: 0, tpm limit: 1000000, current max_parallel_requests: 0, max_parallel_requests: 9223372036854775807', 'type': 'None', 'param': 'None', 'code': '429'}}\n",
      "Error on attempt 1/3: Error code: 429 - {'error': {'message': '429: LiteLLM Rate Limit Handler for rate limit type = team. Crossed TPM / RPM / Max Parallel Request Limit. current rpm: 100, rpm limit: 100, current tpm: 0, tpm limit: 1000000, current max_parallel_requests: 0, max_parallel_requests: 9223372036854775807', 'type': 'None', 'param': 'None', 'code': '429'}}\n"
     ]
    },
    {
     "name": "stderr",
     "output_type": "stream",
     "text": [
      " 33%|███▎      | 1739/5213 [04:25<11:42,  4.95it/s]"
     ]
    },
    {
     "name": "stdout",
     "output_type": "stream",
     "text": [
      "Error on attempt 1/3: Error code: 429 - {'error': {'message': '429: LiteLLM Rate Limit Handler for rate limit type = team. Crossed TPM / RPM / Max Parallel Request Limit. current rpm: 100, rpm limit: 100, current tpm: 0, tpm limit: 1000000, current max_parallel_requests: 0, max_parallel_requests: 9223372036854775807', 'type': 'None', 'param': 'None', 'code': '429'}}\n"
     ]
    },
    {
     "name": "stderr",
     "output_type": "stream",
     "text": [
      " 34%|███▎      | 1749/5213 [04:28<15:55,  3.62it/s]"
     ]
    },
    {
     "name": "stdout",
     "output_type": "stream",
     "text": [
      "Error on attempt 1/3: Error code: 429 - {'error': {'message': '429: LiteLLM Rate Limit Handler for rate limit type = team. Crossed TPM / RPM / Max Parallel Request Limit. current rpm: 100, rpm limit: 100, current tpm: 0, tpm limit: 1000000, current max_parallel_requests: 0, max_parallel_requests: 9223372036854775807', 'type': 'None', 'param': 'None', 'code': '429'}}\n"
     ]
    },
    {
     "name": "stderr",
     "output_type": "stream",
     "text": [
      " 34%|███▍      | 1773/5213 [04:34<10:18,  5.56it/s]"
     ]
    },
    {
     "name": "stdout",
     "output_type": "stream",
     "text": [
      "Error on attempt 1/3: Error code: 429 - {'error': {'message': '429: LiteLLM Rate Limit Handler for rate limit type = team. Crossed TPM / RPM / Max Parallel Request Limit. current rpm: 100, rpm limit: 100, current tpm: 0, tpm limit: 1000000, current max_parallel_requests: 0, max_parallel_requests: 9223372036854775807', 'type': 'None', 'param': 'None', 'code': '429'}}\n"
     ]
    },
    {
     "name": "stderr",
     "output_type": "stream",
     "text": [
      " 35%|███▍      | 1813/5213 [04:41<11:49,  4.79it/s]"
     ]
    },
    {
     "name": "stdout",
     "output_type": "stream",
     "text": [
      "Error on attempt 1/3: Error code: 429 - {'error': {'message': '429: LiteLLM Rate Limit Handler for rate limit type = team. Crossed TPM / RPM / Max Parallel Request Limit. current rpm: 100, rpm limit: 100, current tpm: 0, tpm limit: 1000000, current max_parallel_requests: 1, max_parallel_requests: 9223372036854775807', 'type': 'None', 'param': 'None', 'code': '429'}}\n"
     ]
    },
    {
     "name": "stderr",
     "output_type": "stream",
     "text": [
      " 35%|███▍      | 1820/5213 [04:43<19:16,  2.93it/s]"
     ]
    },
    {
     "name": "stdout",
     "output_type": "stream",
     "text": [
      "Error on attempt 1/3: Error code: 429 - {'error': {'message': '429: LiteLLM Rate Limit Handler for rate limit type = team. Crossed TPM / RPM / Max Parallel Request Limit. current rpm: 100, rpm limit: 100, current tpm: 0, tpm limit: 1000000, current max_parallel_requests: 0, max_parallel_requests: 9223372036854775807', 'type': 'None', 'param': 'None', 'code': '429'}}\n"
     ]
    },
    {
     "name": "stderr",
     "output_type": "stream",
     "text": [
      " 35%|███▍      | 1821/5213 [04:44<30:19,  1.86it/s]"
     ]
    },
    {
     "name": "stdout",
     "output_type": "stream",
     "text": [
      "Error on attempt 1/3: Error code: 429 - {'error': {'message': '429: LiteLLM Rate Limit Handler for rate limit type = team. Crossed TPM / RPM / Max Parallel Request Limit. current rpm: 100, rpm limit: 100, current tpm: 0, tpm limit: 1000000, current max_parallel_requests: 0, max_parallel_requests: 9223372036854775807', 'type': 'None', 'param': 'None', 'code': '429'}}\n"
     ]
    },
    {
     "name": "stderr",
     "output_type": "stream",
     "text": [
      " 35%|███▍      | 1823/5213 [04:45<22:38,  2.50it/s]"
     ]
    },
    {
     "name": "stdout",
     "output_type": "stream",
     "text": [
      "Error on attempt 1/3: Error code: 429 - {'error': {'message': '429: LiteLLM Rate Limit Handler for rate limit type = team. Crossed TPM / RPM / Max Parallel Request Limit. current rpm: 100, rpm limit: 100, current tpm: 0, tpm limit: 1000000, current max_parallel_requests: 0, max_parallel_requests: 9223372036854775807', 'type': 'None', 'param': 'None', 'code': '429'}}\n",
      "Error on attempt 1/3: Error code: 429 - {'error': {'message': '429: LiteLLM Rate Limit Handler for rate limit type = team. Crossed TPM / RPM / Max Parallel Request Limit. current rpm: 100, rpm limit: 100, current tpm: 0, tpm limit: 1000000, current max_parallel_requests: 0, max_parallel_requests: 9223372036854775807', 'type': 'None', 'param': 'None', 'code': '429'}}\n"
     ]
    },
    {
     "name": "stderr",
     "output_type": "stream",
     "text": [
      " 43%|████▎     | 2241/5213 [05:44<08:29,  5.84it/s]"
     ]
    },
    {
     "name": "stdout",
     "output_type": "stream",
     "text": [
      "Error on attempt 1/3: Error code: 429 - {'error': {'message': '429: LiteLLM Rate Limit Handler for rate limit type = team. Crossed TPM / RPM / Max Parallel Request Limit. current rpm: 100, rpm limit: 100, current tpm: 0, tpm limit: 1000000, current max_parallel_requests: 0, max_parallel_requests: 9223372036854775807', 'type': 'None', 'param': 'None', 'code': '429'}}\n"
     ]
    },
    {
     "name": "stderr",
     "output_type": "stream",
     "text": [
      " 43%|████▎     | 2253/5213 [05:46<07:11,  6.86it/s]"
     ]
    },
    {
     "name": "stdout",
     "output_type": "stream",
     "text": [
      "Error on attempt 1/3: Error code: 429 - {'error': {'message': '429: LiteLLM Rate Limit Handler for rate limit type = team. Crossed TPM / RPM / Max Parallel Request Limit. current rpm: 100, rpm limit: 100, current tpm: 0, tpm limit: 1000000, current max_parallel_requests: 0, max_parallel_requests: 9223372036854775807', 'type': 'None', 'param': 'None', 'code': '429'}}\n"
     ]
    },
    {
     "name": "stderr",
     "output_type": "stream",
     "text": [
      " 59%|█████▉    | 3101/5213 [07:45<08:41,  4.05it/s]"
     ]
    },
    {
     "name": "stdout",
     "output_type": "stream",
     "text": [
      "Error on attempt 1/3: Error code: 429 - {'error': {'message': '429: LiteLLM Rate Limit Handler for rate limit type = team. Crossed TPM / RPM / Max Parallel Request Limit. current rpm: 100, rpm limit: 100, current tpm: 0, tpm limit: 1000000, current max_parallel_requests: 0, max_parallel_requests: 9223372036854775807', 'type': 'None', 'param': 'None', 'code': '429'}}\n"
     ]
    },
    {
     "name": "stderr",
     "output_type": "stream",
     "text": [
      " 76%|███████▋  | 3980/5213 [09:44<03:39,  5.61it/s]"
     ]
    },
    {
     "name": "stdout",
     "output_type": "stream",
     "text": [
      "Error on attempt 1/3: Error code: 429 - {'error': {'message': '429: LiteLLM Rate Limit Handler for rate limit type = team. Crossed TPM / RPM / Max Parallel Request Limit. current rpm: 100, rpm limit: 100, current tpm: 0, tpm limit: 1000000, current max_parallel_requests: 0, max_parallel_requests: 9223372036854775807', 'type': 'None', 'param': 'None', 'code': '429'}}\n"
     ]
    },
    {
     "name": "stderr",
     "output_type": "stream",
     "text": [
      " 82%|████████▏ | 4263/5213 [10:23<05:08,  3.08it/s]"
     ]
    },
    {
     "name": "stdout",
     "output_type": "stream",
     "text": [
      "Error on attempt 1/3: Error code: 429 - {'error': {'message': '429: LiteLLM Rate Limit Handler for rate limit type = team. Crossed TPM / RPM / Max Parallel Request Limit. current rpm: 100, rpm limit: 100, current tpm: 0, tpm limit: 1000000, current max_parallel_requests: 0, max_parallel_requests: 9223372036854775807', 'type': 'None', 'param': 'None', 'code': '429'}}\n"
     ]
    },
    {
     "name": "stderr",
     "output_type": "stream",
     "text": [
      " 82%|████████▏ | 4265/5213 [10:24<05:40,  2.79it/s]"
     ]
    },
    {
     "name": "stdout",
     "output_type": "stream",
     "text": [
      "Error on attempt 1/3: Error code: 429 - {'error': {'message': '429: LiteLLM Rate Limit Handler for rate limit type = team. Crossed TPM / RPM / Max Parallel Request Limit. current rpm: 100, rpm limit: 100, current tpm: 0, tpm limit: 1000000, current max_parallel_requests: 0, max_parallel_requests: 9223372036854775807', 'type': 'None', 'param': 'None', 'code': '429'}}\n"
     ]
    },
    {
     "name": "stderr",
     "output_type": "stream",
     "text": [
      " 82%|████████▏ | 4267/5213 [10:25<05:04,  3.11it/s]"
     ]
    },
    {
     "name": "stdout",
     "output_type": "stream",
     "text": [
      "Error on attempt 1/3: Error code: 429 - {'error': {'message': '429: LiteLLM Rate Limit Handler for rate limit type = team. Crossed TPM / RPM / Max Parallel Request Limit. current rpm: 100, rpm limit: 100, current tpm: 0, tpm limit: 1000000, current max_parallel_requests: 0, max_parallel_requests: 9223372036854775807', 'type': 'None', 'param': 'None', 'code': '429'}}\n"
     ]
    },
    {
     "name": "stderr",
     "output_type": "stream",
     "text": [
      " 82%|████████▏ | 4270/5213 [10:27<08:16,  1.90it/s]"
     ]
    },
    {
     "name": "stdout",
     "output_type": "stream",
     "text": [
      "Error on attempt 1/3: Error code: 429 - {'error': {'message': '429: LiteLLM Rate Limit Handler for rate limit type = team. Crossed TPM / RPM / Max Parallel Request Limit. current rpm: 100, rpm limit: 100, current tpm: 0, tpm limit: 1000000, current max_parallel_requests: 0, max_parallel_requests: 9223372036854775807', 'type': 'None', 'param': 'None', 'code': '429'}}\n"
     ]
    },
    {
     "name": "stderr",
     "output_type": "stream",
     "text": [
      " 82%|████████▏ | 4271/5213 [10:27<09:20,  1.68it/s]"
     ]
    },
    {
     "name": "stdout",
     "output_type": "stream",
     "text": [
      "Error on attempt 1/3: Error code: 429 - {'error': {'message': '429: LiteLLM Rate Limit Handler for rate limit type = team. Crossed TPM / RPM / Max Parallel Request Limit. current rpm: 100, rpm limit: 100, current tpm: 0, tpm limit: 1000000, current max_parallel_requests: 0, max_parallel_requests: 9223372036854775807', 'type': 'None', 'param': 'None', 'code': '429'}}\n",
      "Error on attempt 1/3: Error code: 429 - {'error': {'message': '429: LiteLLM Rate Limit Handler for rate limit type = team. Crossed TPM / RPM / Max Parallel Request Limit. current rpm: 100, rpm limit: 100, current tpm: 0, tpm limit: 1000000, current max_parallel_requests: 0, max_parallel_requests: 9223372036854775807', 'type': 'None', 'param': 'None', 'code': '429'}}\n"
     ]
    },
    {
     "name": "stderr",
     "output_type": "stream",
     "text": [
      " 82%|████████▏ | 4294/5213 [10:34<04:03,  3.78it/s]"
     ]
    },
    {
     "name": "stdout",
     "output_type": "stream",
     "text": [
      "Error on attempt 1/3: Error code: 429 - {'error': {'message': '429: LiteLLM Rate Limit Handler for rate limit type = team. Crossed TPM / RPM / Max Parallel Request Limit. current rpm: 100, rpm limit: 100, current tpm: 0, tpm limit: 1000000, current max_parallel_requests: 0, max_parallel_requests: 9223372036854775807', 'type': 'None', 'param': 'None', 'code': '429'}}\n"
     ]
    },
    {
     "name": "stderr",
     "output_type": "stream",
     "text": [
      " 83%|████████▎ | 4301/5213 [10:37<06:20,  2.40it/s]"
     ]
    },
    {
     "name": "stdout",
     "output_type": "stream",
     "text": [
      "Error on attempt 1/3: Error code: 429 - {'error': {'message': '429: LiteLLM Rate Limit Handler for rate limit type = team. Crossed TPM / RPM / Max Parallel Request Limit. current rpm: 100, rpm limit: 100, current tpm: 0, tpm limit: 1000000, current max_parallel_requests: 0, max_parallel_requests: 9223372036854775807', 'type': 'None', 'param': 'None', 'code': '429'}}\n"
     ]
    },
    {
     "name": "stderr",
     "output_type": "stream",
     "text": [
      " 83%|████████▎ | 4306/5213 [10:39<05:39,  2.67it/s]"
     ]
    },
    {
     "name": "stdout",
     "output_type": "stream",
     "text": [
      "Error on attempt 1/3: Error code: 429 - {'error': {'message': '429: LiteLLM Rate Limit Handler for rate limit type = team. Crossed TPM / RPM / Max Parallel Request Limit. current rpm: 100, rpm limit: 100, current tpm: 0, tpm limit: 1000000, current max_parallel_requests: 0, max_parallel_requests: 9223372036854775807', 'type': 'None', 'param': 'None', 'code': '429'}}\n"
     ]
    },
    {
     "name": "stderr",
     "output_type": "stream",
     "text": [
      " 83%|████████▎ | 4309/5213 [10:40<05:56,  2.53it/s]"
     ]
    },
    {
     "name": "stdout",
     "output_type": "stream",
     "text": [
      "Error on attempt 1/3: Error code: 429 - {'error': {'message': '429: LiteLLM Rate Limit Handler for rate limit type = team. Crossed TPM / RPM / Max Parallel Request Limit. current rpm: 100, rpm limit: 100, current tpm: 0, tpm limit: 1000000, current max_parallel_requests: 0, max_parallel_requests: 9223372036854775807', 'type': 'None', 'param': 'None', 'code': '429'}}\n"
     ]
    },
    {
     "name": "stderr",
     "output_type": "stream",
     "text": [
      " 83%|████████▎ | 4310/5213 [10:40<06:23,  2.35it/s]"
     ]
    },
    {
     "name": "stdout",
     "output_type": "stream",
     "text": [
      "Error on attempt 1/3: Error code: 429 - {'error': {'message': '429: LiteLLM Rate Limit Handler for rate limit type = team. Crossed TPM / RPM / Max Parallel Request Limit. current rpm: 100, rpm limit: 100, current tpm: 0, tpm limit: 1000000, current max_parallel_requests: 0, max_parallel_requests: 9223372036854775807', 'type': 'None', 'param': 'None', 'code': '429'}}\n"
     ]
    },
    {
     "name": "stderr",
     "output_type": "stream",
     "text": [
      " 87%|████████▋ | 4555/5213 [11:18<03:42,  2.95it/s]"
     ]
    },
    {
     "name": "stdout",
     "output_type": "stream",
     "text": [
      "Error on attempt 1/3: Error code: 429 - {'error': {'message': '429: LiteLLM Rate Limit Handler for rate limit type = team. Crossed TPM / RPM / Max Parallel Request Limit. current rpm: 100, rpm limit: 100, current tpm: 0, tpm limit: 1000000, current max_parallel_requests: 0, max_parallel_requests: 9223372036854775807', 'type': 'None', 'param': 'None', 'code': '429'}}\n"
     ]
    },
    {
     "name": "stderr",
     "output_type": "stream",
     "text": [
      " 87%|████████▋ | 4561/5213 [11:19<02:16,  4.77it/s]"
     ]
    },
    {
     "name": "stdout",
     "output_type": "stream",
     "text": [
      "Error on attempt 1/3: Error code: 429 - {'error': {'message': '429: LiteLLM Rate Limit Handler for rate limit type = team. Crossed TPM / RPM / Max Parallel Request Limit. current rpm: 100, rpm limit: 100, current tpm: 0, tpm limit: 1000000, current max_parallel_requests: 0, max_parallel_requests: 9223372036854775807', 'type': 'None', 'param': 'None', 'code': '429'}}\n"
     ]
    },
    {
     "name": "stderr",
     "output_type": "stream",
     "text": [
      " 90%|████████▉ | 4682/5213 [11:39<02:36,  3.39it/s]"
     ]
    },
    {
     "name": "stdout",
     "output_type": "stream",
     "text": [
      "Error on attempt 1/3: Error code: 429 - {'error': {'message': '429: LiteLLM Rate Limit Handler for rate limit type = team. Crossed TPM / RPM / Max Parallel Request Limit. current rpm: 100, rpm limit: 100, current tpm: 0, tpm limit: 1000000, current max_parallel_requests: 0, max_parallel_requests: 9223372036854775807', 'type': 'None', 'param': 'None', 'code': '429'}}\n",
      "Error on attempt 1/3: Error code: 429 - {'error': {'message': '429: LiteLLM Rate Limit Handler for rate limit type = team. Crossed TPM / RPM / Max Parallel Request Limit. current rpm: 100, rpm limit: 100, current tpm: 0, tpm limit: 1000000, current max_parallel_requests: 0, max_parallel_requests: 9223372036854775807', 'type': 'None', 'param': 'None', 'code': '429'}}\n",
      "Error on attempt 1/3: Error code: 429 - {'error': {'message': '429: LiteLLM Rate Limit Handler for rate limit type = team. Crossed TPM / RPM / Max Parallel Request Limit. current rpm: 100, rpm limit: 100, current tpm: 0, tpm limit: 1000000, current max_parallel_requests: 0, max_parallel_requests: 9223372036854775807', 'type': 'None', 'param': 'None', 'code': '429'}}\n"
     ]
    },
    {
     "name": "stderr",
     "output_type": "stream",
     "text": [
      " 90%|█████████ | 4695/5213 [11:43<03:31,  2.45it/s]"
     ]
    },
    {
     "name": "stdout",
     "output_type": "stream",
     "text": [
      "Error on attempt 1/3: Error code: 429 - {'error': {'message': '429: LiteLLM Rate Limit Handler for rate limit type = team. Crossed TPM / RPM / Max Parallel Request Limit. current rpm: 100, rpm limit: 100, current tpm: 0, tpm limit: 1000000, current max_parallel_requests: 0, max_parallel_requests: 9223372036854775807', 'type': 'None', 'param': 'None', 'code': '429'}}\n"
     ]
    },
    {
     "name": "stderr",
     "output_type": "stream",
     "text": [
      " 97%|█████████▋| 5044/5213 [12:35<00:56,  3.01it/s]"
     ]
    },
    {
     "name": "stdout",
     "output_type": "stream",
     "text": [
      "Error on attempt 1/3: Error code: 429 - {'error': {'message': '429: LiteLLM Rate Limit Handler for rate limit type = team. Crossed TPM / RPM / Max Parallel Request Limit. current rpm: 100, rpm limit: 100, current tpm: 0, tpm limit: 1000000, current max_parallel_requests: 0, max_parallel_requests: 9223372036854775807', 'type': 'None', 'param': 'None', 'code': '429'}}\n"
     ]
    },
    {
     "name": "stderr",
     "output_type": "stream",
     "text": [
      " 97%|█████████▋| 5046/5213 [12:36<00:42,  3.89it/s]"
     ]
    },
    {
     "name": "stdout",
     "output_type": "stream",
     "text": [
      "Error on attempt 1/3: Error code: 429 - {'error': {'message': '429: LiteLLM Rate Limit Handler for rate limit type = team. Crossed TPM / RPM / Max Parallel Request Limit. current rpm: 100, rpm limit: 100, current tpm: 0, tpm limit: 1000000, current max_parallel_requests: 0, max_parallel_requests: 9223372036854775807', 'type': 'None', 'param': 'None', 'code': '429'}}\n",
      "Error on attempt 1/3: Error code: 429 - {'error': {'message': '429: LiteLLM Rate Limit Handler for rate limit type = team. Crossed TPM / RPM / Max Parallel Request Limit. current rpm: 100, rpm limit: 100, current tpm: 0, tpm limit: 1000000, current max_parallel_requests: 0, max_parallel_requests: 9223372036854775807', 'type': 'None', 'param': 'None', 'code': '429'}}\n"
     ]
    },
    {
     "name": "stderr",
     "output_type": "stream",
     "text": [
      " 97%|█████████▋| 5047/5213 [12:36<01:05,  2.53it/s]"
     ]
    },
    {
     "name": "stdout",
     "output_type": "stream",
     "text": [
      "Error on attempt 1/3: Error code: 429 - {'error': {'message': '429: LiteLLM Rate Limit Handler for rate limit type = team. Crossed TPM / RPM / Max Parallel Request Limit. current rpm: 100, rpm limit: 100, current tpm: 0, tpm limit: 1000000, current max_parallel_requests: 0, max_parallel_requests: 9223372036854775807', 'type': 'None', 'param': 'None', 'code': '429'}}\n",
      "Error on attempt 1/3: Error code: 429 - {'error': {'message': '429: LiteLLM Rate Limit Handler for rate limit type = team. Crossed TPM / RPM / Max Parallel Request Limit. current rpm: 100, rpm limit: 100, current tpm: 0, tpm limit: 1000000, current max_parallel_requests: 0, max_parallel_requests: 9223372036854775807', 'type': 'None', 'param': 'None', 'code': '429'}}\n"
     ]
    },
    {
     "name": "stderr",
     "output_type": "stream",
     "text": [
      " 97%|█████████▋| 5052/5213 [12:39<00:57,  2.78it/s]"
     ]
    },
    {
     "name": "stdout",
     "output_type": "stream",
     "text": [
      "Error on attempt 1/3: Error code: 429 - {'error': {'message': '429: LiteLLM Rate Limit Handler for rate limit type = team. Crossed TPM / RPM / Max Parallel Request Limit. current rpm: 100, rpm limit: 100, current tpm: 0, tpm limit: 1000000, current max_parallel_requests: 0, max_parallel_requests: 9223372036854775807', 'type': 'None', 'param': 'None', 'code': '429'}}\n"
     ]
    },
    {
     "name": "stderr",
     "output_type": "stream",
     "text": [
      " 97%|█████████▋| 5064/5213 [12:44<01:00,  2.47it/s]"
     ]
    },
    {
     "name": "stdout",
     "output_type": "stream",
     "text": [
      "Error on attempt 1/3: Error code: 429 - {'error': {'message': '429: LiteLLM Rate Limit Handler for rate limit type = team. Crossed TPM / RPM / Max Parallel Request Limit. current rpm: 100, rpm limit: 100, current tpm: 0, tpm limit: 1000000, current max_parallel_requests: 0, max_parallel_requests: 9223372036854775807', 'type': 'None', 'param': 'None', 'code': '429'}}\n"
     ]
    },
    {
     "name": "stderr",
     "output_type": "stream",
     "text": [
      "100%|██████████| 5213/5213 [13:06<00:00,  6.63it/s]\n"
     ]
    }
   ],
   "source": [
    "# Run all inference on medfound prompts\n",
    "def inference_gemini(model=\"google/gemini-flash\"):\n",
    "    with open(os.path.expanduser('~/CBORG_EXT_API_KEY_FLASH.txt'), 'r') as f:\n",
    "        os.environ['CBORG_EXT_API_KEY_FLASH'] = f.read().strip()\n",
    "    # Initialize the new API client\n",
    "    client = OpenAI(\n",
    "        api_key=os.environ.get(\"CBORG_EXT_API_KEY_FLASH\"),\n",
    "        base_url=\"https://api.cborg.lbl.gov/v1\"\n",
    "    )\n",
    "    all_prompts = get_prompts(\"../data/gemini-prompts.jsonl\")\n",
    "    lock = threading.Lock()\n",
    "    with ThreadPoolExecutor(max_workers=os.cpu_count()) as executor:\n",
    "        futures = {executor.submit(get_gpt_response_with_retries, prompt_obj, client, model): prompt_obj for prompt_obj in all_prompts}\n",
    "        for future in tqdm(as_completed(futures), total=len(futures)):\n",
    "            with lock:\n",
    "                prompt_obj = future.result()\n",
    "                with open(\"../data/results/geminiflash_results.jsonl\", \"a\") as result_file:\n",
    "                    result_file.write(json.dumps(prompt_obj) + \"\\n\")\n",
    "inference_gemini()"
   ]
  },
  {
   "cell_type": "code",
   "execution_count": null,
   "metadata": {},
   "outputs": [],
   "source": [
    "\n"
   ]
  }
 ],
 "metadata": {
  "kernelspec": {
   "display_name": "p3",
   "language": "python",
   "name": "python3"
  },
  "language_info": {
   "codemirror_mode": {
    "name": "ipython",
    "version": 3
   },
   "file_extension": ".py",
   "mimetype": "text/x-python",
   "name": "python",
   "nbconvert_exporter": "python",
   "pygments_lexer": "ipython3",
   "version": "3.10.16"
  }
 },
 "nbformat": 4,
 "nbformat_minor": 2
}
