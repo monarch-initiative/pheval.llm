{
 "cells": [
  {
   "cell_type": "code",
   "execution_count": 5,
   "id": "942ce493-22e0-4fa4-beb0-3492a8a87591",
   "metadata": {},
   "outputs": [],
   "source": [
    "from datasets import Dataset\n",
    "import os\n",
    "\n",
    "\n",
    "\n",
    "folder_path = \"prompts/\"\n",
    "prompts = []\n",
    "\n",
    "for filename in os.listdir(folder_path):\n",
    "    if filename.endswith(\".txt\"):\n",
    "        file_path = os.path.join(folder_path, filename)\n",
    "        with open(file_path, \"r\") as file:\n",
    "            content = file.read()\n",
    "            file_contents.append(content)\n",
    "\n",
    "# Print the contents\n",
    "for content in file_contents:\n",
    "    print(content)"
   ]
  },
  {
   "cell_type": "code",
   "execution_count": 6,
   "id": "05fa6e41-1ec5-438c-b9c8-041e5b3d797a",
   "metadata": {},
   "outputs": [],
   "source": [
    "\n",
    "data = {\n",
    "    \"text\": [\"I love this!\", \"I hate this!\"],\n",
    "    \"label\": [1, 0]\n",
    "}\n",
    "dataset = Dataset.from_dict(data)"
   ]
  },
  {
   "cell_type": "code",
   "execution_count": null,
   "id": "302f3e99-a3b3-4ae8-95ae-f4caac5e32a4",
   "metadata": {},
   "outputs": [],
   "source": []
  }
 ],
 "metadata": {
  "kernelspec": {
   "display_name": "Python 3 (ipykernel)",
   "language": "python",
   "name": "python3"
  },
  "language_info": {
   "codemirror_mode": {
    "name": "ipython",
    "version": 3
   },
   "file_extension": ".py",
   "mimetype": "text/x-python",
   "name": "python",
   "nbconvert_exporter": "python",
   "pygments_lexer": "ipython3",
   "version": "3.11.6"
  }
 },
 "nbformat": 4,
 "nbformat_minor": 5
}
