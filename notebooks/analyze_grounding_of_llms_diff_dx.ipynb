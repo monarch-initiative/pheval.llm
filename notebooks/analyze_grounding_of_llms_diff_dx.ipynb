{
 "cells": [
  {
   "cell_type": "code",
   "execution_count": 7,
   "id": "initial_id",
   "metadata": {
    "collapsed": true,
    "ExecuteTime": {
     "end_time": "2024-12-10T16:41:21.035887Z",
     "start_time": "2024-12-10T16:41:20.113442Z"
    }
   },
   "outputs": [
    {
     "name": "stdout",
     "output_type": "stream",
     "text": [
      "Disease summary with labels saved in TSV format to disease_summary_with_labels.tsv\n"
     ]
    }
   ],
   "source": [
    "import os\n",
    "import csv\n",
    "from collections import defaultdict\n",
    "from oaklib import get_adapter\n",
    "\n",
    "# Directory containing the files\n",
    "input_directory = \"/Users/jtr4v/PythonProject/malco/outputdir_all_2024_07_04/gpt_o1_preview_disease_results\"\n",
    "\n",
    "# Ontology adapter to query MONDO\n",
    "adapter = get_adapter(\"sqlite:obo:mondo\")\n",
    "\n",
    "# Dictionary to store disease names and their associated identifiers\n",
    "disease_mapping = defaultdict(set)\n",
    "\n",
    "def get_mondo_label(mondo_id):\n",
    "    \"\"\"\n",
    "    Fetch the label for a MONDO ID using the Ontology Access Kit.\n",
    "    \"\"\"\n",
    "    try:\n",
    "        label = adapter.label(mondo_id)\n",
    "        return label if label else \"Label not found\"\n",
    "    except Exception as e:\n",
    "        return f\"Error retrieving label: {str(e)}\"\n",
    "\n",
    "# Iterate through each file in the directory\n",
    "for filename in os.listdir(input_directory):\n",
    "    file_path = os.path.join(input_directory, filename)\n",
    "    \n",
    "    # Only process files that are not directories and have a .txt or .tsv extension\n",
    "    if os.path.isfile(file_path) and filename.endswith(('.txt', '.tsv')):\n",
    "        with open(file_path, 'r') as file:\n",
    "            reader = csv.DictReader(file, delimiter='\\t')\n",
    "            \n",
    "            # Read each row in the file\n",
    "            for row in reader:\n",
    "                disease_name = row['disease_name']\n",
    "                disease_identifier = row['disease_identifier']\n",
    "                \n",
    "                # Skip 'N/A' identifiers\n",
    "                if disease_identifier and disease_identifier != 'N/A':\n",
    "                    disease_mapping[disease_name].add(disease_identifier)\n",
    "\n",
    "# Convert sets to sorted lists\n",
    "disease_mapping = {name: sorted(ids) for name, ids in sorted(disease_mapping.items())}\n",
    "\n",
    "# Prepare TSV output data\n",
    "seen_rows = set()  # To track unique rows\n",
    "tsv_rows = []\n",
    "for disease_name, mondo_ids in disease_mapping.items():\n",
    "    for mondo_id in mondo_ids:\n",
    "        mondo_label = get_mondo_label(mondo_id)\n",
    "        row = (disease_name, mondo_id, mondo_label)\n",
    "        if row not in seen_rows:  # Avoid duplicates\n",
    "            seen_rows.add(row)\n",
    "            tsv_rows.append(row)\n",
    "\n",
    "# Output TSV file\n",
    "output_tsv_path = \"disease_summary_with_labels.tsv\"\n",
    "with open(output_tsv_path, 'w', newline='') as tsv_file:\n",
    "    writer = csv.writer(tsv_file, delimiter='\\t')\n",
    "    # Write the header row\n",
    "    writer.writerow([\"Disease Name\", \"MONDO ID\", \"MONDO Label\"])\n",
    "    # Write the data rows\n",
    "    writer.writerows(tsv_rows)\n",
    "\n",
    "print(f\"Disease summary with labels saved in TSV format to {output_tsv_path}\")"
   ]
  },
  {
   "cell_type": "code",
   "execution_count": null,
   "outputs": [],
   "source": [],
   "metadata": {
    "collapsed": false
   },
   "id": "4ad28264150b677"
  }
 ],
 "metadata": {
  "kernelspec": {
   "display_name": "Python 3",
   "language": "python",
   "name": "python3"
  },
  "language_info": {
   "codemirror_mode": {
    "name": "ipython",
    "version": 2
   },
   "file_extension": ".py",
   "mimetype": "text/x-python",
   "name": "python",
   "nbconvert_exporter": "python",
   "pygments_lexer": "ipython2",
   "version": "2.7.6"
  }
 },
 "nbformat": 4,
 "nbformat_minor": 5
}
